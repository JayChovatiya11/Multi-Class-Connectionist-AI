{
 "cells": [
  {
   "cell_type": "code",
   "execution_count": 1,
   "metadata": {},
   "outputs": [],
   "source": [
    "#Importing libraries \n",
    "import tensorflow as tf\n",
    "from tensorflow import keras\n",
    "from tensorflow.keras import layers\n",
    "import os\n",
    "import numpy as np\n",
    "from sklearn import model_selection\n",
    "from sklearn import preprocessing"
   ]
  },
  {
   "cell_type": "code",
   "execution_count": 9,
   "metadata": {
    "scrolled": true
   },
   "outputs": [],
   "source": [
    "# setting path for animal dataset\n",
    "dataset_path = \"C:\\\\Users\\\\dell\\\\Desktop\\\\animal\\\\raw-img\\\\\"\n",
    "# Load the dataset\n",
    "x = []\n",
    "y = []\n",
    "for i in os.listdir(dataset_path):\n",
    "    animaldir = os.path.join(dataset_path, i)\n",
    "    if os.path.isdir(animaldir):\n",
    "        for file_name in os.listdir(animaldir):\n",
    "            file_path = os.path.join(animaldir, file_name)\n",
    "            image = keras.preprocessing.image.load_img(file_path, target_size=(32, 32))\n",
    "            image_array = keras.preprocessing.image.img_to_array(image)\n",
    "            x.append(image_array)\n",
    "            y.append(i)\n",
    "x = np.array(x)\n",
    "y = np.array(y)"
   ]
  },
  {
   "cell_type": "code",
   "execution_count": 3,
   "metadata": {},
   "outputs": [],
   "source": [
    "# Separating the into training and test sets\n",
    "x_train, x_test, y_train, y_test = model_selection.train_test_split(x, y, test_size=0.2)"
   ]
  },
  {
   "cell_type": "code",
   "execution_count": 4,
   "metadata": {},
   "outputs": [],
   "source": [
    "# Creating the model\n",
    "model = keras.Sequential([\n",
    "    layers.Conv2D(32, (3, 3), padding=\"same\", activation=\"relu\", input_shape=(32, 32, 3)),\n",
    "    layers.MaxPooling2D((2, 2)),\n",
    "    layers.Conv2D(64, (3, 3), padding=\"same\", activation=\"relu\"),\n",
    "    layers.MaxPooling2D((2, 2)),\n",
    "    layers.Flatten(),\n",
    "    layers.Dense(128, activation=\"relu\"),\n",
    "    layers.Dense(len(np.unique(y)), activation=\"softmax\")\n",
    "])\n",
    "#Adding Adam optimizer in the model \n",
    "model.compile(optimizer=\"adam\", loss=\"categorical_crossentropy\", metrics=[\"accuracy\"])\n",
    "x_train = x_train.astype(\"float32\") / 255.0\n",
    "x_test = x_test.astype(\"float32\") / 255.0"
   ]
  },
  {
   "cell_type": "code",
   "execution_count": 5,
   "metadata": {},
   "outputs": [],
   "source": [
    "# Convert the labels to one-hot encoding\n",
    "label_encoder = preprocessing.LabelEncoder()\n",
    "y_train = label_encoder.fit_transform(y_train)\n",
    "y_test = label_encoder.transform(y_test)\n",
    "y_train = keras.utils.to_categorical(y_train, len(np.unique(y)))\n",
    "y_test = keras.utils.to_categorical(y_test, len(np.unique(y)))\n"
   ]
  },
  {
   "cell_type": "code",
   "execution_count": 6,
   "metadata": {},
   "outputs": [
    {
     "name": "stdout",
     "output_type": "stream",
     "text": [
      "Epoch 1/10\n",
      "328/328 [==============================] - 29s 85ms/step - loss: 1.9793 - accuracy: 0.2941 - val_loss: 1.5635 - val_accuracy: 0.4587\n",
      "Epoch 2/10\n",
      "328/328 [==============================] - 26s 79ms/step - loss: 1.4381 - accuracy: 0.5114 - val_loss: 1.3612 - val_accuracy: 0.5359\n",
      "Epoch 3/10\n",
      "328/328 [==============================] - 26s 79ms/step - loss: 1.2507 - accuracy: 0.5775 - val_loss: 1.2728 - val_accuracy: 0.5655\n",
      "Epoch 4/10\n",
      "328/328 [==============================] - 27s 81ms/step - loss: 1.1356 - accuracy: 0.6166 - val_loss: 1.2381 - val_accuracy: 0.5760\n",
      "Epoch 5/10\n",
      "328/328 [==============================] - 26s 80ms/step - loss: 0.9925 - accuracy: 0.6634 - val_loss: 1.2173 - val_accuracy: 0.5909\n",
      "Epoch 6/10\n",
      "328/328 [==============================] - 26s 81ms/step - loss: 0.8952 - accuracy: 0.6987 - val_loss: 1.1488 - val_accuracy: 0.6081\n",
      "Epoch 7/10\n",
      "328/328 [==============================] - 26s 80ms/step - loss: 0.7987 - accuracy: 0.7348 - val_loss: 1.1828 - val_accuracy: 0.6110\n",
      "Epoch 8/10\n",
      "328/328 [==============================] - 26s 80ms/step - loss: 0.6992 - accuracy: 0.7662 - val_loss: 1.2246 - val_accuracy: 0.6033\n",
      "Epoch 9/10\n",
      "328/328 [==============================] - 27s 82ms/step - loss: 0.6256 - accuracy: 0.7920 - val_loss: 1.2711 - val_accuracy: 0.6060\n",
      "Epoch 10/10\n",
      "328/328 [==============================] - 26s 79ms/step - loss: 0.5293 - accuracy: 0.8231 - val_loss: 1.3294 - val_accuracy: 0.6060\n",
      "Model accuracy is : 60.60%\n"
     ]
    }
   ],
   "source": [
    "# Training the model and seeting epochs to 2 \n",
    "model.fit(x_train, y_train, epochs=10, batch_size=64, validation_data=(x_test, y_test))\n",
    "\n",
    "#Evaluate the model\n",
    "_, acc = model.evaluate(x_test, y_test, verbose=0)\n",
    "print(\"Model accuracy is : {:.2f}%\".format(acc * 100))"
   ]
  },
  {
   "cell_type": "code",
   "execution_count": 12,
   "metadata": {},
   "outputs": [
    {
     "name": "stdout",
     "output_type": "stream",
     "text": [
      "INFO:tensorflow:Assets written to: C:\\Users\\dell\\Desktop\\animal\\assets\n"
     ]
    }
   ],
   "source": [
    "# OPTIONAL : hypertuning the model to increase the accuracy \n",
    "#model.compile(optimizer=keras.optimizers.SGD(learning_rate=0.02, momentum=0.9), loss=\"categorical_crossentropy\", metrics=[\"accuracy\"])\n",
    "# Train the model\n",
    "#model.fit(x_train, y_train, epochs=1, batch_size=64, validation_data=(x_test, y_test))\n",
    "model.save(\"C:\\\\Users\\\\dell\\\\Desktop\\\\animal\\\\\")\n",
    "model = keras.models.load_model(\"C:\\\\Users\\\\dell\\\\Desktop\\\\animal\\\\\")\n"
   ]
  },
  {
   "cell_type": "code",
   "execution_count": 14,
   "metadata": {},
   "outputs": [
    {
     "name": "stdout",
     "output_type": "stream",
     "text": [
      "Your Predicted class is: ['elefante']\n"
     ]
    }
   ],
   "source": [
    "# classify image of elephant\n",
    "image = keras.preprocessing.image.load_img(\"C:\\\\Users\\\\dell\\\\Desktop\\\\animal\\\\raw-img\\\\elefante\\\\elephant.jpg\", target_size=(32, 32))\n",
    "image_array = keras.preprocessing.image.img_to_array(image)\n",
    "predictions = model.predict(image_array[np.newaxis, ...])\n",
    "predicted_class = label_encoder.inverse_transform(np.array([np.argmax(predictions)]))\n",
    "print(\"Your Predicted class is:\", predicted_class)\n"
   ]
  },
  {
   "cell_type": "code",
   "execution_count": null,
   "metadata": {},
   "outputs": [],
   "source": []
  }
 ],
 "metadata": {
  "kernelspec": {
   "display_name": "Python 3",
   "language": "python",
   "name": "python3"
  },
  "language_info": {
   "codemirror_mode": {
    "name": "ipython",
    "version": 3
   },
   "file_extension": ".py",
   "mimetype": "text/x-python",
   "name": "python",
   "nbconvert_exporter": "python",
   "pygments_lexer": "ipython3",
   "version": "3.8.3"
  }
 },
 "nbformat": 4,
 "nbformat_minor": 5
}
